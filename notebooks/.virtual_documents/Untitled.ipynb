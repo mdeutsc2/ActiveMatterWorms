


%matplotlib ipympl
import numpy as np
import tqdm
import matplotlib.pyplot as plt
from scipy import interpolate
from scipy import spatial


#filename = "/media/matt/SCRATCH/ActiveMatterWorms/data_02_02_2024/filament_data.npz"

#filename = "/media/matt/DATA/data_22_05_2024/filament_data.npz"
filename = "/media/matt/DATA/osc_data/data_15_05_2024-2/filament_data.npz"
data = np.load(filename)
pos_data = data['a']
vel_data = data['b']
print(vel_data.shape)
N = data['a'].shape[1]
nframes = data['a'].shape[0]
print(N)
print(nframes)


fig,ax = plt.subplots(1,1)
quiver = ax.quiver(pos_data[-1,:,0], #x
                   pos_data[-1,:,1], #y
                   vel_data[-1,:,0], #u
                   vel_data[-1,:,1], #v
                   pivot='mid',
                   color="tab:blue",
                   scale_units='xy',
                   scale=0.25
)
ax.set_box_aspect(1)
ax.set_adjustable("datalim")
ax.set_title("Unstructured Fluid Velocity")
plt.show()


x_min = np.min(pos_data[-1,:,0])
x_max = np.max(pos_data[-1,:,0])
y_min = np.min(pos_data[-1,:,1])
y_max = np.max(pos_data[-1,:,1])
num_points = 120
X,Y = np.meshgrid(np.linspace(x_min, x_max, num_points),np.linspace(y_min, y_max, num_points))
radius = X[0,1]-X[0,0]
pts = np.c_[X.ravel(),Y.ravel()]

tree = spatial.KDTree(pos_data[-1,:,0:2])#.query([X[0,0],Y[0,0]])#,distance_upper_bound=radius)
dd, ii = tree.query([[X[0,0],Y[0,0]]],k=10)
print(pos_data[-1,:,0:2].shape)
print([X[0,0],Y[0,0]])
print(dd, ii, sep='\n')
Y = spatial.distance.cdist(pos_data[-1,:,0:2], pts, 'euclidean')
print(Y)









