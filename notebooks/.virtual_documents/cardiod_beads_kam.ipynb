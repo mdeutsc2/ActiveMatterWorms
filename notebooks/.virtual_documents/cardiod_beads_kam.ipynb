


%matplotlib ipympl
import numpy as np
import tqdm
import matplotlib.pyplot as plt
from scipy import interpolate
from scipy import spatial
from tqdm.auto import tqdm


#filename = "/media/matt/SCRATCH/ActiveMatterWorms/data_02_02_2024/filament_data.npz" # thorin
filename = "/media/matt/DATA/data_02_02_2024/filament_data.npz" # gimli 
#filename = "../data/data_02_02_2024/filament_data.npz" # macbook

#filename = "/media/matt/DATA/data_22_05_2024/filament_data.npz" # gimli
#filename = "../data/data_22_05_2024/filament_data.npz" # macbook
#filename = "/media/matt/DATA/osc_data/data_15_05_2024-2/filament_data.npz" # gimli
data = np.load(filename)
pos_data = data['a']
vel_data = data['b']
print(vel_data.shape)
N = data['a'].shape[1]
nframes = data['a'].shape[0]
print(N)
print(nframes)


def find_avg_vel_smoothed(iframe,pos_data,vel_data,bounds,X,Y,num_points=120):
    x_min,x_max,y_min,y_max = bounds
    #radius = X[0,1]-X[0,0]
    radius = 2.0*(X[0,1]-X[0,0])
    pts = np.c_[X.ravel(),Y.ravel()]
    tree = spatial.KDTree(pos_data[iframe,:,0:2])
    vx_avg = np.zeros((num_points,num_points))
    vy_avg = np.zeros((num_points,num_points))
    vmag_avg = np.zeros((num_points,num_points))
    for i in np.arange(num_points):
        for j in np.arange(num_points):
            dd, ii = tree.query([[X[i,j],Y[i,j]]],workers=8,k=len(pos_data[iframe,:,0:2]),distance_upper_bound=radius)
            if np.argmax(dd>x_max**2) > 1:
                vx_avg[i,j] = np.mean(vel_data[iframe,ii[0][:np.argmax(dd>x_max**2)],0])
                vy_avg[i,j] = np.mean(vel_data[iframe,ii[0][:np.argmax(dd>x_max**2)],1])
                vmag_avg[i,j] = np.sqrt(vx_avg[i,j]**2 + vy_avg[i,j]**2)
    return vx_avg,vy_avg,vmag_avg
iframe = 302
bounds = (np.min(pos_data[iframe,:,0]),np.max(pos_data[iframe,:,0]),np.min(pos_data[iframe,:,1]),np.max(pos_data[iframe,:,1]))
X,Y = np.meshgrid(np.linspace(bounds[0], bounds[1], 120),np.linspace(bounds[2], bounds[3], 120))
vx_avg,vy_avg,vmag_avg = find_avg_vel_smoothed(iframe,pos_data,vel_data,bounds,X,Y)


fig,axs = plt.subplots(1, 1,figsize=(10,10))
pcm = axs.imshow(vmag_avg,cmap="cividis",alpha=1.0,origin="lower",extent=bounds)#,interpolation='bicubic')
fig.colorbar(pcm, ax=axs)
axs.set_title("Avg. Velocity Mag.")
axs.set_ylim(bounds[2],bounds[3])
axs.set_xlim(bounds[0],bounds[1])
plt.tight_layout()
plt.show()


def write_avg_vel_ascii(istep,vx,vy,xs,ys,npoints,types="both"):
    filename = "vel_avg_"+str(istep).zfill(4)+".data"
    with open(filename, 'w') as file:
        file.write("# i j x y vx vy\n")
        for i in np.arange(0,npoints):
            for j in np.arange(0,npoints):
                #print(i,j,xs[i,j],ys[i,j],vx[i,j],vy[i,j])
                file.write(str(i)+"\t"+str(j)+"\t"+str(xs[i,j])+"\t"+str(ys[i,j])+"\t"+str(vx[i,j])+"\t"+str(vy[i,j])+"\n")

def write_avg_vel_npz(istep,vx_avg,vy_avg,X,Y):
    filename = "vel_avg_"+str(istep).zfill(4)
    np.savez(filename, x = X, y = Y, vx=vx_avg, vy=vy_avg)
    # npzfile = np.load(filename+".npz")
    # print(npzfile.files)


for iframe in tqdm(np.arange(1100,1500)):
    num_points = 120
    bounds = (np.min(pos_data[iframe,:,0]),np.max(pos_data[iframe,:,0]),np.min(pos_data[iframe,:,1]),np.max(pos_data[iframe,:,1]))
    X,Y = np.meshgrid(np.linspace(bounds[0], bounds[1], num_points),np.linspace(bounds[2], bounds[3], num_points))
    vx_avg,vy_avg,vmag_avg = find_avg_vel_smoothed(iframe,pos_data,vel_data,bounds,X,Y)
    write_avg_vel_ascii(iframe,vx_avg,vy_avg,X,Y,num_points)
    write_avg_vel_npz(iframe,vx_avg,vy_avg,X,Y)





# box photobleaching

iframe = 1100
length0=0.8
bounds = (np.min(pos_data[iframe,:,0]),np.max(pos_data[iframe,:,0]),np.min(pos_data[iframe,:,1]),np.max(pos_data[iframe,:,1]))
X,Y = np.meshgrid(np.linspace(bounds[0], bounds[1], 30),np.linspace(bounds[2], bounds[3], 30))
box_mesh = X[11:16,3:7],Y[11:16,3:7]#X[12:15,4:6],Y[12:15,4:6]
x_max = np.max(box_mesh[0])
x_min = np.min(box_mesh[0])
y_min = np.min(box_mesh[1])
y_max = np.max(box_mesh[1])
pts_x = []
pts_y = []
pts_id = []
for i in np.arange(len(pos_data[iframe,:,0])):
    x = pos_data[iframe,i,0]
    y = pos_data[iframe,i,1]
    #print(x,y)
    if (x_min <= x <= x_max) and (y_min <= y <= y_max):
        pts_x.append(x)
        pts_y.append(y)
        pts_id.append(i)
        
fig,ax = plt.subplots(1,1,figsize=(10,10))
quiver = ax.quiver(pos_data[iframe,:,0], #x
                   pos_data[iframe,:,1], #y
                   vel_data[iframe,:,0], #u
                   vel_data[iframe,:,1], #v
                   pivot='mid',
                   color="tab:blue",
                   scale_units='xy',
                   scale=0.25
)
# ax.scatter(box_mesh[0],box_mesh[1],color="tab:red",marker='.')
# #ax.scatter(pts_x,pts_y,color="tab:orange",marker='x')
ax.scatter(pos_data[iframe,pts_id,0],pos_data[iframe,pts_id,1],color="tab:orange",marker='x')
ax.set_box_aspect(1)
ax.set_adjustable("datalim")
ax.set_title("Unstructured Active Velocity")
plt.show()


import matplotlib.animation as animation
import matplotlib
from IPython.display import display, HTML
matplotlib.rcParams['animation.embed_limit'] = 2**128
iframe = 1100 #301
fframe = 1500 #500
bounds = (np.min(pos_data[iframe,:,0]),np.max(pos_data[iframe,:,0]),np.min(pos_data[iframe,:,1]),np.max(pos_data[iframe,:,1]))
X,Y = np.meshgrid(np.linspace(bounds[0], bounds[1], 30),np.linspace(bounds[2], bounds[3], 30))
box_mesh = X[11:16,3:7],Y[11:16,3:7]#X[12:15,4:6],Y[12:15,4:6]
x_max = np.max(box_mesh[0])
x_min = np.min(box_mesh[0])
y_min = np.min(box_mesh[1])
y_max = np.max(box_mesh[1])
pts_x = []
pts_y = []
pts_id = []
for i in np.arange(len(pos_data[iframe,:,0])):
    x = pos_data[iframe,i,0] 
    y = pos_data[iframe,i,1]
    #print(x,y)
    if (x_min <= x <= x_max) and (y_min <= y <= y_max):
        pts_x.append(x)
        pts_y.append(y)
        pts_id.append(i)

print(len(pts_id))
fig,ax = plt.subplots(1,1,figsize=(6,6))
# initialize the quiver and scatter plots
lines_x = np.zeros((fframe-iframe,len(pts_id)))
lines_y = np.zeros((fframe-iframe,len(pts_id)))
for frame in range(fframe-iframe):
    for (i,pt) in enumerate(pts_id):
        lines_x[frame,i] = pos_data[iframe+frame,pt,0]
        lines_y[frame,i] = pos_data[iframe+frame,pt,1]

lines = [ax.plot([],[],color="tab:green",linewidth=0.5,zorder=1)[0]  for _ in range(len(pts_id))]
scatter = ax.scatter([], [], color="tab:orange", marker='x',zorder=2)
scatter1 = ax.scatter([], [], color="tab:blue",marker='.',s=4)
ax.set_box_aspect(1)
ax.set_adjustable("datalim")
ax.set_title("Unstructured Active Velocity")
frame_text = ax.text(0.05, 0.95, '', transform=ax.transAxes, 
                     fontsize=12, verticalalignment='top', 
                     bbox=dict(boxstyle='round', facecolor='wheat', alpha=0.5),zorder=3)

def init():
    ax.set_xlim(np.min(pos_data[:, :, 0]), np.max(pos_data[:, :, 0]))
    ax.set_ylim(np.min(pos_data[:, :, 1]), np.max(pos_data[:, :, 1]))
    return lines,scatter,scatter1,frame_text

def update(frame):
    for i,line in enumerate(lines):
        x_prev, y_prev = line.get_data()
        x_new = np.append(x_prev, pos_data[frame, pts_id[i], 0])
        y_new = np.append(y_prev, pos_data[frame, pts_id[i], 1])
        lines[i].set_data(x_new,y_new)
    scatter.set_offsets(pos_data[frame, pts_id, :])
    scatter1.set_offsets(pos_data[frame,:,:])
    frame_text.set_text(f'Frame: {frame}')
    return lines,scatter,frame_text
    
anim = animation.FuncAnimation(fig, update, frames=range(iframe,fframe), init_func=init, blit=True, repeat=True)
#plt.show()
#anim.save('animated_scatter_plot1.mp4', writer='ffmpeg', fps=15)
#anim.save('animated_scatter_plot2.mp4', writer='ffmpeg', fps=15)
display(HTML(anim.to_jshtml()))
plt.close()


# line photobleaching

iframe = 1100 # 301
length0=0.8
bounds = (np.min(pos_data[iframe,:,0]),np.max(pos_data[iframe,:,0]),np.min(pos_data[iframe,:,1]),np.max(pos_data[iframe,:,1]))
#X,Y = np.meshgrid(np.linspace(bounds[0], bounds[1], 30),np.linspace(bounds[2], bounds[3], 30))
X,Y = np.meshgrid(np.linspace(bounds[0],bounds[1],30),np.arange(bounds[2],bounds[3],0.8))
print(X[0,15])
tree = spatial.KDTree(pos_data[iframe,:,0:2])
pb_pts_x = []
pb_pts_y = []
pb_ids = []
for i in np.arange(len(X[:,15])):
    dd,ii = tree.query([[X[i,15],Y[i,25]]],workers=8,k=1,distance_upper_bound=length0)
    if dd < np.Inf:
        pb_pts_x.append(pos_data[iframe,ii,0])
        pb_pts_y.append(pos_data[iframe,ii,1])
        pb_ids.append(ii[0])
        
    #print(dd,ii,sep="\n")


fig,ax = plt.subplots(1,1,figsize=(10,10))
quiver = ax.quiver(pos_data[iframe,:,0], #x
                   pos_data[iframe,:,1], #y
                   vel_data[iframe,:,0], #u
                   vel_data[iframe,:,1], #v
                   pivot='mid',
                   color="tab:blue",
                   scale_units='xy',
                   scale=0.25
)
#ax.scatter(X,Y,color="tab:red",marker='.')
ax.scatter(X[:,15],Y[:,15],color="tab:green",marker='.')
ax.scatter(pb_pts_x,pb_pts_y,color="tab:orange",marker='x')
ax.set_box_aspect(1)
ax.set_adjustable("datalim")
ax.set_title("Unstructured Active Velocity")
plt.show()



import matplotlib.animation as animation
import matplotlib
from IPython.display import display, HTML
from collections import OrderedDict
matplotlib.rcParams['animation.embed_limit'] = 2**128

def calculate_distance(x1, y1, x2, y2):
    # Compute the difference in x and y coordinates
    dx = x2 - x1
    dy = y2 - y1
    # Calculate the distance using the Euclidean distance formula
    distance = np.sqrt(dx**2 + dy**2)
    return distance
    
iframe = 1100 #301
fframe = 1500 #500
length0=0.8
bounds = (np.min(pos_data[iframe,:,0]),np.max(pos_data[iframe,:,0]),np.min(pos_data[iframe,:,1]),np.max(pos_data[iframe,:,1]))
#X,Y = np.meshgrid(np.linspace(bounds[0], bounds[1], 30),np.linspace(bounds[2], bounds[3], 30))
X,Y = np.meshgrid(np.linspace(bounds[0],bounds[1],30),np.arange(bounds[2],bounds[3],0.8))
idx_line = 15
print(X[0,idx_line])
tree = spatial.KDTree(pos_data[iframe,:,0:2])
pb_pts_x = []
pb_pts_y = []
pb_ids = []
dist_list = []
for i in np.arange(len(X[:,idx_line])):
    dd,ii = tree.query([[X[i,idx_line],Y[i,idx_line]]],workers=8,k=1,distance_upper_bound=length0)
    if dd < np.Inf:
        pb_pts_x.append(pos_data[iframe,ii,0])
        pb_pts_y.append(pos_data[iframe,ii,1])
        pb_ids.append(ii[0])
#pb_ids = list(set(pb_ids)) # uniques only
pb_ids = list(OrderedDict.fromkeys(pb_ids))
print(len(pb_ids))
fig,ax = plt.subplots(1,1,figsize=(6,6))

lines = [ax.plot([],[],color="tab:green",linewidth=1,zorder=2)[0]  for _ in range(len(pb_ids))]
scatter = ax.scatter([], [], color="tab:orange", marker='x',zorder=3)
scatter1 = ax.scatter([], [], color="tab:blue",marker='.',s=1,zorder=1)
ax.set_box_aspect(1)
ax.set_adjustable("datalim")
ax.set_title("Unstructured Active Velocity")
frame_text = ax.text(0.05, 0.95, '', transform=ax.transAxes, 
                     fontsize=12, verticalalignment='top', 
                     bbox=dict(boxstyle='round', facecolor='wheat', alpha=0.5),zorder=3)

def init():
    ax.set_xlim(np.min(pos_data[:, :, 0]), np.max(pos_data[:, :, 0]))
    ax.set_ylim(np.min(pos_data[:, :, 1]), np.max(pos_data[:, :, 1]))
    return lines,scatter,scatter1,frame_text

def update(frame):
    dist = np.sum([calculate_distance(pos_data[frame,pb_ids[i],0],pos_data[frame,pb_ids[i],1],pos_data[frame,pb_ids[i+1],0],pos_data[frame,pb_ids[i+1],1]) for i in np.arange(len(pb_ids)-1)])
    dist_list.append(dist)
    for i,line in enumerate(lines):
        x_prev, y_prev = line.get_data()
        x_new = np.append(x_prev, pos_data[frame, pb_ids[i], 0])
        y_new = np.append(y_prev, pos_data[frame, pb_ids[i], 1])
        lines[i].set_data(x_new,y_new)
    scatter.set_offsets(pos_data[frame, pb_ids, :])
    scatter1.set_offsets(pos_data[frame,:,:])
    frame_text.set_text(f'Frame: {frame}\n Dist: {dist}')
    return lines,scatter,scatter1,frame_text
    
anim = animation.FuncAnimation(fig, update, frames=range(iframe,fframe), init_func=init, blit=True, repeat=True)
#plt.show()
#anim.save('animated_scatter_plot1.mp4', writer='ffmpeg', fps=15)
#anim.save('animated_scatter_plot2.mp4', writer='ffmpeg', fps=15)
display(HTML(anim.to_jshtml()))
plt.close()


from scipy.optimize import curve_fit

def fitf(x,a,b):
    return a*x + b
    
fig,ax = plt.subplots(1,1,figsize=(6,6))
flength=400
ax.scatter(np.arange(iframe,iframe+flength),dist_list[:flength])
popt,pcov = curve_fit(fitf,np.arange(iframe,iframe+flength),dist_list[:flength])
print(popt)
ax.plot(np.arange(iframe,iframe+flength),fitf(np.arange(iframe,iframe+flength),popt[0],popt[1]))
ax.set_yscale('log')
plt.show()


# average photobleaching
from scipy.optimize import curve_fit

def lyapunov(x,gamma):
    return np.exp(gamma*x)

def calculate_distance(x1, y1, x2, y2):
    # Compute the difference in x and y coordinates
    dx = x2 - x1
    dy = y2 - y1
    # Calculate the distance using the Euclidean distance formula
    distance = np.sqrt(dx**2 + dy**2)
    return distance
    
def wormid(idx,np):
    iworm = int((idx - 1)/np)
    ip = idx - np*(iworm)
    return iworm,ip

iframe = 1100 # 301
nframes = 5
length0=2.0**(1.0/6.0)
bounds = (np.min(pos_data[iframe,:,0]),np.max(pos_data[iframe,:,0]),np.min(pos_data[iframe,:,1]),np.max(pos_data[iframe,:,1]))
#X,Y = np.meshgrid(np.linspace(bounds[0], bounds[1], 30),np.linspace(bounds[2], bounds[3], 30))
X,Y = np.meshgrid(np.linspace(bounds[0],bounds[1],30),np.arange(bounds[2],bounds[3],0.8))
tree = spatial.KDTree(pos_data[iframe,:,0:2])
allpairs = tree.query_pairs(r=length0) # returns list of pairs within cutoff
pairs = set() # new set
print(len(allpairs),type(allpairs))
for p in allpairs:
    iworm,ip = wormid(p[0],80)
    jworm,jp = wormid(p[1],80)
    if iworm != jworm: # pairs are not on same filament
        pairs.add(p)

pairs_list = np.array([*list(pairs)]) # converting into a 2d numpy array
distances = np.zeros((pairs_list.shape[0],nframes))
print(distances.shape)
#print(pos_data[iframe,pairs,:])

for i in tqdm(np.arange(nframes)):
    for ipair in np.arange(pairs_list.shape[0]):
        p1x = pos_data[iframe+i,pairs_list[ipair,0],0]
        p1y = pos_data[iframe+i,pairs_list[ipair,0],1]
        p2x = pos_data[iframe+i,pairs_list[ipair,1],0]
        p2y = pos_data[iframe+i,pairs_list[ipair,1],1]
        distances[ipair,i] = calculate_distance(p1x,p1y,p2x,p2y)

mean_dists = np.sum(distances,axis=0,dtype=np.float64)/distances.shape[0]

popt,pcov = curve_fit(lyapunov,np.arange(nframes),mean_dists)
print(popt)

fig,ax = plt.subplots(1,1)
ax.plot(np.arange(iframe,iframe+nframes),mean_dists,label="<dist>")
ax.set_xlabel("Frame #")
ax.set_ylabel("Distance")
ax.set_yscale('linear')
plt.legend()
plt.show()

fig,ax = plt.subplots(1,1)
ax.plot(np.arange(nframes),lyapunov(np.arange(nframes),popt[0]),label="lyapunov")
ax.set_xlabel("Frame #")
ax.set_ylabel("Distance")
ax.set_yscale('linear')
plt.legend()
plt.show()

# fig,ax = plt.subplots(1,1,figsize=(10,10))
# quiver = ax.quiver(pos_data[iframe,:,0], #x
#                    pos_data[iframe,:,1], #y
#                    vel_data[iframe,:,0], #u
#                    vel_data[iframe,:,1], #v
#                    pivot='mid',
#                    color="tab:blue",
#                    scale_units='xy',
#                    scale=0.25
# )
# #ax.scatter(X,Y,color="tab:red",marker='.')
# ax.scatter(pos_data[iframe,pairs_list[0,0],0],pos_data[iframe,pairs_list[0,0],1],color="tab:orange",marker='x')
# ax.scatter(pos_data[iframe,pairs_list[0,1],0],pos_data[iframe,pairs_list[0,1],1],color="tab:orange",marker='x')
# ax.set_box_aspect(1)
# ax.set_adjustable("datalim")
# ax.set_title("Unstructured Active Velocity")
# plt.show()






#np.savez_compressed("head_pos_data_02_02", pos_data=pos_data[:,0:-1:nparticles,:])
#np.savez_compressed("head_pos_data_22_05", pos_data=pos_data[:,0:-1:nparticles,:])

data = np.load("head_pos_data_02_02.npz")
pos_data = data['pos_data']

iframe = 1100 # 301
length0=2.0**(1.0/6.0) #0.8
bounds = (np.min(pos_data[iframe,:,0]),np.max(pos_data[iframe,:,0]),np.min(pos_data[iframe,:,1]),np.max(pos_data[iframe,:,1]))
#X,Y = np.meshgrid(np.linspace(bounds[0], bounds[1], 30),np.linspace(bounds[2], bounds[3], 30))
X,Y = np.meshgrid(np.linspace(bounds[0],bounds[1],30),np.arange(bounds[2],bounds[3],0.8))
idx_line = 12
print(X[0,idx_line])
tree = spatial.KDTree(pos_data[iframe,:,0:2])
pb_pts_x = []
pb_pts_y = []
pb_ids = []
for i in np.arange(len(X[:,idx_line])):
    dd,ii = tree.query([[X[i,idx_line],Y[i,idx_line]]],workers=8,k=1,distance_upper_bound=length0)
    if dd < np.Inf:
        pb_pts_x.append(pos_data[iframe,ii,0])
        pb_pts_y.append(pos_data[iframe,ii,1])
        pb_ids.append(ii)

fig,ax = plt.subplots(1,1,figsize=(10,10))
ax.scatter(pos_data[iframe,:,0],pos_data[iframe,:,1],color="tab:blue",marker='.',s=4)
ax.scatter(X[:,idx_line],Y[:,idx_line],color="tab:green",marker='.')
ax.scatter(pb_pts_x,pb_pts_y,color="tab:orange",marker='x')
ax.set_box_aspect(1)
ax.set_adjustable("datalim")
ax.set_title("Unstructured Active Velocity")
plt.show()



print(pb_ids)
fig,ax = plt.subplots(1,1,figsize=(10,10))
ax.scatter(pos_data[iframe,:,0],pos_data[iframe,:,1],color="tab:blue",marker='.',s=4)
ax.scatter(pos_data[iframe,pb_ids,0],pos_data[iframe,pb_ids,1],color="tab:orange",marker='x')
ax.scatter(pos_data[iframe,pb_ids[8:10],0],pos_data[iframe,pb_ids[8:10],1],color="tab:purple",marker='x')
ax.set_box_aspect(1)
ax.set_adjustable("datalim")
ax.set_title("Unstructured Active Velocity")
plt.show()
print(pb_ids[8:10])


print(pb_ids)
fig,ax = plt.subplots(1,1,figsize=(10,10))
ax.scatter(pos_data[iframe,:,0],pos_data[iframe,:,1],color="tab:blue",marker='.',s=4)
ax.scatter(pos_data[iframe,pb_ids,0],pos_data[iframe,pb_ids,1],color="tab:orange",marker='x')
ax.scatter(pos_data[iframe,pb_ids[17:20],0],pos_data[iframe,pb_ids[17:20],1],color="tab:purple",marker='x')
ax.set_box_aspect(1)
ax.set_adjustable("datalim")
ax.set_title("Unstructured Active Velocity")
plt.show()
print(pb_ids[17:20])


def find_midpoint(x1,y1,x2,y2):
    xm = (x1 + x2) / 2
    ym = (y1 + y2) / 2
    return xm,ym

def calculate_distance(x1, y1, x2, y2):
    # Compute the difference in x and y coordinates
    dx = x2 - x1
    dy = y2 - y1
    # Calculate the distance using the Euclidean distance formula
    distance = np.sqrt(dx**2 + dy**2)
    return distance

tree = spatial.KDTree(pos_data[iframe,:,0:2])

fig,ax = plt.subplots(1,1,figsize=(10,10))
ax.scatter(pos_data[iframe,:,0],pos_data[iframe,:,1],color="tab:blue",marker='.',s=4)
ax.scatter(pos_data[iframe,pb_ids[8:10],0],pos_data[iframe,pb_ids[8:10],1],color="tab:orange",marker='x')

xm,ym = find_midpoint(pos_data[iframe,pb_ids[8],0],pos_data[iframe,pb_ids[8],1],pos_data[iframe,pb_ids[9],0],pos_data[iframe,pb_ids[9],1])
ax.scatter(xm,ym,color="tab:purple",marker="x")

radius = calculate_distance(xm,ym,pos_data[iframe,pb_ids[8],0],pos_data[iframe,pb_ids[8],1])
idl = [int(i) for i in pb_ids[8:10]]
print("index list particles before ",idl)

dd,ii = tree.query([float(xm),float(ym)],workers=8,k=len(pos_data[iframe,:,1]))#,distance_upper_bound=radius)
for i in np.arange(len(ii)):
    if ii[i] in idl:
        # particle already exists in photobleached line
        continue
    else:
        print(ii[i],dd[i])
        idl.insert(1,ii[i])
        break
#print(dd,ii)
# while add_nn:
#     dd,ii = tree.query([float(xm),float(ym)],workers=8,k=1+nn_offset,distance_upper_bound=radius)
#     print(nn_offset)
#     print(dd,ii,sep="\n")
#     if nn_offset == 0:
#         if ii in idl:
#             nn_offset += 1
#         if dd == np.Inf:
#             nn_offset += 1
#     else:
#         if dd < np.Inf:
#             if all([i in idl for i in ii]) == False:
#                 idl.insert(nn_offset-1,ii[-1])
#                 add_nn = False
#             else:
#                 nn_offset += 1
#         else:
#             nn_offset += 1
#     if nn_offset > 15:
#         break
    
#need to return the nearest neighbor that does not exist in the existing list of points
print("index list particles after ",idl)
ax.scatter(pos_data[iframe,idl,0],pos_data[iframe,idl,1],color="tab:green",marker='x')

ax.set_box_aspect(1)
ax.set_adjustable("datalim")
ax.set_title("Unstructured Active Velocity")
plt.show()


import matplotlib.animation as animation
import matplotlib
from IPython.display import display, HTML
from collections import OrderedDict #pb_ids = list(OrderedDict.fromkeys(pb_ids))
matplotlib.rcParams['animation.embed_limit'] = 2**128
iframe = 1100 #301
fframe = 1120#2100 #500
pts_id = [int(i) for i in pb_ids[17:20]]
pts_id = list(OrderedDict.fromkeys(pts_id))
print(pts_id)
length0 =  2.0**(1.0/6.0)
fig,ax = plt.subplots(1,1,figsize=(6,6))

lines = [ax.plot([],[],color="tab:green",linewidth=0.5,zorder=1)[0]  for _ in range(len(pts_id))]
scatter2 = ax.scatter([], [], color="tab:orange", marker='x',zorder=2)
scatter1 = ax.scatter([],[],color = "tab:blue",marker='.',s=4,zorder=3)
scatter_mp = ax.scatter([],[],color = "tab:purple",marker="x",zorder=3)
plot1, = ax.plot([],[],color="tab:purple",linewidth=1.0,zorder=1)
ax.set_box_aspect(1)
ax.set_adjustable("datalim")
ax.set_title("Unstructured Active Velocity")
frame_text = ax.text(0.05, 0.95, '', transform=ax.transAxes, 
                     fontsize=12, verticalalignment='top', 
                     bbox=dict(boxstyle='round', facecolor='wheat', alpha=0.5),zorder=3)
    
def init():
    ax.set_xlim(np.min(pos_data[:, :, 0]), np.max(pos_data[:, :, 0]))
    ax.set_ylim(np.min(pos_data[:, :, 1]), np.max(pos_data[:, :, 1]))
    return lines,scatter1,scatter2,scatter_mp,plot1,frame_text

def update(frame,pts_id):
    tree = spatial.KDTree(pos_data[iframe,:,0:2])
    dlist = []
    pts_id_new = pts_id
    if frame > iframe:
        for i in np.arange(len(pts_id)-1):
            x1,y1 = pos_data[frame,pts_id[i],0],pos_data[frame,pts_id[i],1]
            x2,y2 = pos_data[frame,pts_id[i+1],0],pos_data[frame,pts_id[i+1],1]
            dist = calculate_distance(x1,y1,x2,y2)
            dlist.append(dist)
            xm,ym = find_midpoint(x1,y1,x2,y2)
            search_radius = calculate_distance(xm,ym,x1,y1)
            dd,ii = tree.query([float(xm),float(ym)],workers=8,k=len(pos_data[iframe,:,1]),distance_upper_bound=search_radius)
            for idx in np.arange(len(ii)):
                if i < 800 and ii[i] in pts_id:
                    # particle already exists in photobleached line
                    continue
                else:
                    #print(ii[idx],dd[idx])
                    if dd[idx] < search_radius:
                        pts_id_new.insert(i+1,ii[idx]) # position,value
                        break
                    else:
                        break
    #pts_id = list(OrderedDict.fromkeys(pts_id_new))
    print("Frame ",frame,pts_id,sum(dlist))
    # for i,line in enumerate(lines):
    #     x_prev, y_prev = line.get_data()
    #     x_new = np.append(x_prev, pos_data[frame, pts_id[i], 0])
    #     y_new = np.append(y_prev, pos_data[frame, pts_id[i], 1])
    #     lines[i].set_data(x_new,y_new)
    scatter2.set_offsets(pos_data[frame, pts_id, :])
    scatter1.set_offsets(pos_data[frame,:,:])
    #plot1.set_data(pos_data[frame,pts_id,:])
    frame_text.set_text(f'Frame: {frame} \nDist: {sum(dlist)}')
    return lines,scatter1,scatter2,scatter_mp,plot1,frame_text

anim = animation.FuncAnimation(fig, update, frames=range(iframe,fframe),fargs=(pts_id,),init_func=init, blit=True, repeat=True)
#plt.show()
#anim.save('animated_scatter_plot1.mp4', writer='ffmpeg', fps=15)
#anim.save('animated_scatter_plot2.mp4', writer='ffmpeg', fps=15)
display(HTML(anim.to_jshtml()))
plt.close()


i = 2
a = [1,2,3,4,5]
a.insert(2,i)
a


len([2])






