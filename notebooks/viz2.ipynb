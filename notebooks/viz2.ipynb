{
 "cells": [
  {
   "cell_type": "code",
   "execution_count": null,
   "metadata": {},
   "outputs": [],
   "source": [
    "%matplotlib ipympl\n",
    "import numpy as np\n",
    "import tqdm\n",
    "import matplotlib.pyplot as plt\n",
    "from scipy import interpolate\n",
    "from scipy.ndimage import gaussian_filter\n",
    "from scipy.spatial.distance import cdist\n",
    "\n",
    "from vizlib import *"
   ]
  },
  {
   "cell_type": "code",
   "execution_count": null,
   "metadata": {},
   "outputs": [],
   "source": [
    "filename = \"/Volumes/DATA/amatter_24_01_2024_card_worms_only.xyzv\"\n",
    "N,nframes,pos_data,vel_data = load_data(filename)"
   ]
  },
  {
   "cell_type": "code",
   "execution_count": null,
   "metadata": {},
   "outputs": [],
   "source": [
    "vector_field = get_particle_vecs_frame(N,-1,pos_data)"
   ]
  },
  {
   "cell_type": "code",
   "execution_count": null,
   "metadata": {},
   "outputs": [],
   "source": [
    "vector_field.shape"
   ]
  },
  {
   "cell_type": "code",
   "execution_count": null,
   "metadata": {},
   "outputs": [],
   "source": [
    "\"\"\"plotting the vectors of each of the individual particles\"\"\"\n",
    "fig,ax = plt.subplots(1,1)\n",
    "quiver = ax.quiver(vector_field[:,0], #x\n",
    "                   vector_field[:,1], #y\n",
    "                   vector_field[:,3], #u\n",
    "                   vector_field[:,4], #v\n",
    "                   pivot='mid',\n",
    "                   headlength=0,\n",
    "                   headwidth=0,\n",
    "                   headaxislength=0,\n",
    "                   color=\"tab:blue\",\n",
    "                   scale_units='xy',\n",
    "                   scale=0.25\n",
    ")\n",
    "ax.set_box_aspect(1)\n",
    "ax.set_adjustable(\"datalim\")\n",
    "plt.show()"
   ]
  },
  {
   "cell_type": "code",
   "execution_count": null,
   "metadata": {},
   "outputs": [],
   "source": [
    "def local_average_director(data, radius):\n",
    "    \"\"\"\n",
    "    Perform local averaging of the director data.\n",
    "\n",
    "    Parameters:\n",
    "    - data: (N, 6) array with columns for x-position, y-position, z-position, x-dir, y-dir, z-dir.\n",
    "    - radius: Radius of the local neighborhood for averaging.\n",
    "\n",
    "    Returns:\n",
    "    - averaged_data: (N, 6) array with columns for x-position, y-position, z-position, averaged x-dir, averaged y-dir, averaged z-dir.\n",
    "    \"\"\"\n",
    "    num_points = data.shape[0]\n",
    "    averaged_data = np.zeros_like(data)\n",
    "    empty_count = 0\n",
    "    for i in range(num_points):\n",
    "        # Calculate distances to all other points\n",
    "        distances = cdist(data[:, :2], data[i, :2].reshape(1, -1))[0]\n",
    "\n",
    "        # Identify points within the specified radius\n",
    "        neighbors_indices = np.where(distances <= radius)[0]\n",
    "        if neighbors_indices.size > 0:\n",
    "            # Average the director components within the local neighborhood\n",
    "            averaged_x_dir = np.mean(data[neighbors_indices, 3])\n",
    "            averaged_y_dir = np.mean(data[neighbors_indices, 4])\n",
    "\n",
    "            # Update the averaged_data array\n",
    "            averaged_data[i, :] = [data[i, 0], data[i, 1], 0.0,averaged_x_dir, averaged_y_dir,0.0]\n",
    "        else:\n",
    "            averaged_data[i, :] = [data[i, 0], data[i, 1], 0.0, data[i,3], data[i,4], 0.0]\n",
    "            empty_count += 1\n",
    "    print(\"Points with no neighbors (increase radius?):\",empty_count,\"/\",num_points,\"\\t\",(empty_count/num_points)*100,\"%\")\n",
    "    return averaged_data\n",
    "\n",
    "radius = 100.0  # You can adjust the radius based on your simulation requirements\n",
    "averaged_data = local_average_director(vector_field, radius)\n"
   ]
  },
  {
   "cell_type": "code",
   "execution_count": null,
   "metadata": {},
   "outputs": [],
   "source": [
    "\"\"\"plotting the vectors of each of the averaged particle data\"\"\"\n",
    "fig,(ax1, ax2) = plt.subplots(1, 2,figsize=(12,6))\n",
    "quiver = ax1.quiver(vector_field[:,0], #x\n",
    "                   vector_field[:,1], #y\n",
    "                   vector_field[:,3], #u\n",
    "                   vector_field[:,4], #v\n",
    "                   pivot='mid',\n",
    "                   headlength=0,\n",
    "                   headwidth=0,\n",
    "                   headaxislength=0,\n",
    "                   color=\"tab:blue\",\n",
    "                   scale_units='xy',\n",
    "                   scale=0.25\n",
    ")\n",
    "ax1.set_box_aspect(1)\n",
    "ax1.set_adjustable(\"datalim\")\n",
    "ax1.set_title('Filament Vectors')\n",
    "quiver = ax2.quiver(averaged_data[:,0], #x\n",
    "                   averaged_data[:,1], #y\n",
    "                   averaged_data[:,3], #u\n",
    "                   averaged_data[:,4], #v\n",
    "                   pivot='mid',\n",
    "                   headlength=0,\n",
    "                   headwidth=0,\n",
    "                   headaxislength=0,\n",
    "                   color=\"tab:blue\",\n",
    "                   scale_units='xy',\n",
    "                   scale=0.25\n",
    ")\n",
    "ax2.set_box_aspect(1)\n",
    "ax2.set_title('Locally-Averaged Directors')\n",
    "ax2.set_adjustable(\"datalim\")\n",
    "plt.show()\n"
   ]
  },
  {
   "cell_type": "code",
   "execution_count": null,
   "metadata": {},
   "outputs": [],
   "source": [
    "import pyinterp\n",
    "mesh_x = pyinterp.RTree()\n",
    "mesh_x.packing(np.vstack((vector_field[:,0], vector_field[:,1])).T, vector_field[:,3])\n",
    "STEP = 1 / 32\n",
    "max_x = np.max(vector_field[:,0])\n",
    "min_x = np.min(vector_field[:,0])\n",
    "max_y = np.max(vector_field[:,1])\n",
    "min_y = np.min(vector_field[:,1])\n",
    "mx, my = np.meshgrid(np.arange(min_x, max_x + STEP, STEP),\n",
    "                        np.arange(min_y, max_x + STEP, STEP),\n",
    "                        indexing='ij')\n",
    "wf_x, neighbors = mesh.window_function(\n",
    "    np.vstack((mx.ravel(), my.ravel())).T,\n",
    "    within=False,  # Extrapolation is forbidden\n",
    "    k=11,\n",
    "    wf='parzen',\n",
    "    num_threads=0)\n",
    "wf_x = wf_x.reshape(mx.shape)\n",
    "\n",
    "mesh_y = pyinterp.RTree()\n",
    "mesh_y.packing(np.vstack((vector_field[:,0], vector_field[:,1])).T, vector_field[:,4])\n",
    "wf_y, neighbors = mesh.window_function(\n",
    "    np.vstack((mx.ravel(), my.ravel())).T,\n",
    "    within=False,  # Extrapolation is forbidden\n",
    "    k=11,\n",
    "    wf='parzen',\n",
    "    num_threads=0)\n",
    "wf_y = wf_y.reshape(mx.shape)\n"
   ]
  },
  {
   "cell_type": "code",
   "execution_count": 55,
   "metadata": {},
   "outputs": [],
   "source": [
    "fig,ax = plt.subplots(1,1)\n",
    "quiver = ax.quiver(mx,my,wf_x,wf_y,\n",
    "                   pivot='mid',\n",
    "                   headlength=0,\n",
    "                   headwidth=0,\n",
    "                   headaxislength=0,\n",
    "                   color=\"tab:blue\",\n",
    "                   scale_units='xy',\n",
    "                   scale=0.25\n",
    ")\n",
    "ax.set_box_aspect(1)\n",
    "ax.set_adjustable(\"datalim\")\n",
    "plt.show()"
   ]
  },
  {
   "cell_type": "code",
   "execution_count": null,
   "metadata": {},
   "outputs": [],
   "source": []
  }
 ],
 "metadata": {
  "kernelspec": {
   "display_name": "base",
   "language": "python",
   "name": "python3"
  },
  "language_info": {
   "codemirror_mode": {
    "name": "ipython",
    "version": 3
   },
   "file_extension": ".py",
   "mimetype": "text/x-python",
   "name": "python",
   "nbconvert_exporter": "python",
   "pygments_lexer": "ipython3",
   "version": "3.11.0"
  }
 },
 "nbformat": 4,
 "nbformat_minor": 2
}
