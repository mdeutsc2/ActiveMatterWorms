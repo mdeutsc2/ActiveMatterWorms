{
 "cells": [
  {
   "cell_type": "markdown",
   "metadata": {},
   "source": []
  },
  {
   "cell_type": "code",
   "execution_count": null,
   "metadata": {},
   "outputs": [],
   "source": [
    "%matplotlib ipympl\n",
    "import numpy as np\n",
    "import tqdm\n",
    "import matplotlib.pyplot as plt\n",
    "from scipy import interpolate\n",
    "\n",
    "from vizlib import *"
   ]
  },
  {
   "cell_type": "code",
   "execution_count": null,
   "metadata": {},
   "outputs": [],
   "source": [
    "filename = \"/Volumes/DATA/data_06_11_2023-5/amatter_06_11_2023-5_worms_only.xyzv\"\n",
    "\n",
    "N,nframes,pos_data,vel_data = load_data(filename)"
   ]
  },
  {
   "cell_type": "code",
   "execution_count": null,
   "metadata": {},
   "outputs": [],
   "source": [
    "vector_field = get_particle_vecs_frame(N,-1,pos_data)"
   ]
  },
  {
   "cell_type": "code",
   "execution_count": null,
   "metadata": {},
   "outputs": [],
   "source": [
    "\"\"\"plotting the vectors of each of the individual particles\"\"\"\n",
    "fig,ax = plt.subplots(1,1)\n",
    "quiver = ax.quiver(vector_field[:,0], #x\n",
    "                   vector_field[:,1], #y\n",
    "                   vector_field[:,3], #u\n",
    "                   vector_field[:,4], #v\n",
    "                   pivot='mid',\n",
    "                   headlength=0,\n",
    "                   headwidth=0,\n",
    "                   headaxislength=0,\n",
    "                   color=\"tab:blue\",\n",
    "                   scale_units='xy',\n",
    "                   scale=0.25\n",
    ")\n",
    "ax.set_box_aspect(1)\n",
    "ax.set_adjustable(\"datalim\")\n",
    "plt.show()"
   ]
  },
  {
   "cell_type": "code",
   "execution_count": null,
   "metadata": {},
   "outputs": [],
   "source": [
    "vector_grid = interp_particle_vecs(vector_field)\n"
   ]
  },
  {
   "cell_type": "code",
   "execution_count": null,
   "metadata": {},
   "outputs": [],
   "source": [
    "\"\"\"plotting the vectors of each grid\"\"\"\n",
    "fig,ax = plt.subplots(1,1)\n",
    "quiver = ax.quiver(vector_grid[:,0], #x\n",
    "                   vector_grid[:,1], #y\n",
    "                   vector_grid[:,2], #u\n",
    "                   vector_grid[:,3], #v\n",
    "                   pivot='mid',\n",
    "                   headlength=0,\n",
    "                   headwidth=0,\n",
    "                   headaxislength=0,\n",
    "                   color=\"tab:blue\",\n",
    "                   scale_units='xy',\n",
    "                   scale=0.25\n",
    ")\n",
    "ax.set_box_aspect(1)\n",
    "ax.set_adjustable(\"datalim\")\n",
    "plt.show()"
   ]
  },
  {
   "cell_type": "code",
   "execution_count": null,
   "metadata": {},
   "outputs": [],
   "source": [
    "from matplotlib.animation import FuncAnimation\n",
    "\n",
    "# Assuming you have a list of vector fields called 'vector_fields'\n",
    "vector_fields = []\n",
    "for iframe in tqdm.tqdm(range(nframes)):\n",
    "    vector_field_frame = get_particle_vecs_frame(N,iframe,pos_data,disp=False)\n",
    "    vector_grid_frame = interp_particle_vecs(vector_field_frame,disp=False)\n",
    "    vector_fields.append(vector_grid_frame)\n",
    "    \n",
    "fig, ax = plt.subplots(1, 1)\n",
    "\n",
    "def update(frame):\n",
    "    ax.clear()\n",
    "    vector_grid = vector_fields[frame]\n",
    "    quiver = ax.quiver(vector_grid[:, 0], vector_grid[:, 1], vector_grid[:, 2], vector_grid[:, 3],\n",
    "                       pivot='mid',\n",
    "                       headlength=0,\n",
    "                       headwidth=0,\n",
    "                       headaxislength=0,\n",
    "                       color=\"tab:blue\",\n",
    "                       scale_units='xy',\n",
    "                       scale=0.25\n",
    "                       )\n",
    "    ax.set_box_aspect(1)\n",
    "    ax.set_adjustable(\"datalim\")\n",
    "    ax.set_title(f'Timestep {frame}')\n",
    "\n",
    "# Create the animation\n",
    "animation = FuncAnimation(fig, update, frames=nframes, interval=200, repeat=False)\n",
    "#saving the animation\n",
    "animation.save('vector_field_animation.mp4', writer='ffmpeg', fps=10)\n",
    "#plt.show()\n"
   ]
  },
  {
   "cell_type": "code",
   "execution_count": null,
   "metadata": {},
   "outputs": [],
   "source": []
  }
 ],
 "metadata": {
  "kernelspec": {
   "display_name": "base",
   "language": "python",
   "name": "python3"
  },
  "language_info": {
   "codemirror_mode": {
    "name": "ipython",
    "version": 3
   },
   "file_extension": ".py",
   "mimetype": "text/x-python",
   "name": "python",
   "nbconvert_exporter": "python",
   "pygments_lexer": "ipython3",
   "version": "3.11.0"
  }
 },
 "nbformat": 4,
 "nbformat_minor": 2
}
