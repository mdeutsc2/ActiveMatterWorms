{
 "cells": [
  {
   "cell_type": "markdown",
   "metadata": {},
   "source": []
  },
  {
   "cell_type": "code",
   "execution_count": 3,
   "metadata": {},
   "outputs": [],
   "source": [
    "%matplotlib ipympl\n",
    "import numpy as np\n",
    "import tqdm\n",
    "import matplotlib.pyplot as plt\n",
    "from scipy import interpolate\n",
    "from scipy.ndimage import gaussian_filter\n",
    "\n",
    "from vizlib import *"
   ]
  },
  {
   "cell_type": "code",
   "execution_count": null,
   "metadata": {},
   "outputs": [],
   "source": [
    "filename = \"/Volumes/DATA/data_06_11_2023-5/amatter_06_11_2023-5_worms_only.xyzv\"\n",
    "N,nframes,pos_data,vel_data = load_data(filename)"
   ]
  },
  {
   "cell_type": "code",
   "execution_count": null,
   "metadata": {},
   "outputs": [],
   "source": [
    "vector_field = get_particle_vecs_frame(N,-1,pos_data)"
   ]
  },
  {
   "cell_type": "code",
   "execution_count": null,
   "metadata": {},
   "outputs": [],
   "source": [
    "\"\"\"plotting the vectors of each of the individual particles\"\"\"\n",
    "fig,ax = plt.subplots(1,1)\n",
    "quiver = ax.quiver(vector_field[:,0], #x\n",
    "                   vector_field[:,1], #y\n",
    "                   vector_field[:,3], #u\n",
    "                   vector_field[:,4], #v\n",
    "                   pivot='mid',\n",
    "                   headlength=0,\n",
    "                   headwidth=0,\n",
    "                   headaxislength=0,\n",
    "                   color=\"tab:blue\",\n",
    "                   scale_units='xy',\n",
    "                   scale=0.25\n",
    ")\n",
    "ax.set_box_aspect(1)\n",
    "ax.set_adjustable(\"datalim\")\n",
    "plt.show()"
   ]
  },
  {
   "cell_type": "code",
   "execution_count": null,
   "metadata": {},
   "outputs": [],
   "source": [
    "num_interpolation_points = 100\n",
    "interpolation_type = \"cubic\"#\"linear\"\n",
    "vector_grid = interp_particle_vecs(vector_field,num_interpolation_points,interpolation_type)"
   ]
  },
  {
   "cell_type": "code",
   "execution_count": null,
   "metadata": {},
   "outputs": [],
   "source": [
    "E = get_energy_simple(vector_grid,num_interpolation_points)\n",
    "fig,ax = plt.subplots(1,1,figsize=(6,6))\n",
    "pcm = ax.imshow(E,cmap=\"spring\")\n",
    "fig.colorbar(pcm, ax=ax)\n",
    "plt.show()"
   ]
  },
  {
   "cell_type": "code",
   "execution_count": null,
   "metadata": {},
   "outputs": [],
   "source": [
    "\"\"\"plotting the vectors of each grid\"\"\"\n",
    "fig,ax = plt.subplots(1,1,figsize=(8,8))\n",
    "quiver = ax.quiver(vector_grid[:,0], #x\n",
    "                   vector_grid[:,1], #y\n",
    "                   vector_grid[:,2], #u\n",
    "                   vector_grid[:,3], #v\n",
    "                   pivot='mid',\n",
    "                   headlength=0,\n",
    "                   headwidth=0,\n",
    "                   headaxislength=0,\n",
    "                   color=\"tab:blue\",\n",
    "                   scale_units='xy',\n",
    "                   scale=0.5\n",
    ")\n",
    "pcm = ax.imshow(E,cmap=\"spring\",interpolation=\"bilinear\",alpha=0.5,origin=\"lower\",extent=(vector_grid[:,0][0],vector_grid[:,0][-1],vector_grid[:,1][0],vector_grid[:,1][-1]))\n",
    "fig.colorbar(pcm, ax=ax)\n",
    "ax.axis(\"scaled\")\n",
    "ax.set_box_aspect(1)\n",
    "ax.set_adjustable(\"datalim\")\n",
    "plt.show()"
   ]
  },
  {
   "cell_type": "code",
   "execution_count": 2,
   "metadata": {},
   "outputs": [
    {
     "ename": "NameError",
     "evalue": "name 'vector_grid' is not defined",
     "output_type": "error",
     "traceback": [
      "\u001b[0;31m---------------------------------------------------------------------------\u001b[0m",
      "\u001b[0;31mNameError\u001b[0m                                 Traceback (most recent call last)",
      "Cell \u001b[0;32mIn[2], line 22\u001b[0m\n\u001b[1;32m     18\u001b[0m             S[i,j] \u001b[38;5;241m=\u001b[39m \u001b[38;5;241m0.5\u001b[39m\u001b[38;5;241m*\u001b[39mtheta\u001b[38;5;241m/\u001b[39m\u001b[38;5;241m8\u001b[39m\n\u001b[1;32m     20\u001b[0m     \u001b[38;5;28;01mreturn\u001b[39;00m S\n\u001b[0;32m---> 22\u001b[0m order_parameter_original \u001b[38;5;241m=\u001b[39m calculate_order_parameter(\u001b[43mvector_grid\u001b[49m[:,:,\u001b[38;5;241m2\u001b[39m:\u001b[38;5;241m3\u001b[39m])\n\u001b[1;32m     24\u001b[0m \u001b[38;5;66;03m# Plot the original and interpolated defect fields with the order parameter\u001b[39;00m\n\u001b[1;32m     25\u001b[0m fig,ax \u001b[38;5;241m=\u001b[39m plt\u001b[38;5;241m.\u001b[39msubplots(\u001b[38;5;241m1\u001b[39m,\u001b[38;5;241m1\u001b[39m,figsize\u001b[38;5;241m=\u001b[39m(\u001b[38;5;241m8\u001b[39m,\u001b[38;5;241m8\u001b[39m))\n",
      "\u001b[0;31mNameError\u001b[0m: name 'vector_grid' is not defined"
     ]
    }
   ],
   "source": [
    "def calculate_order_parameter(field):\n",
    "    # Assuming field is a 2D array of vectors (size x size x 2)\n",
    "    S = np.zeros((field.shape[0],field.shape[1]))\n",
    "    for i in np.arange(1,field.shape[0]-1):\n",
    "        for j in np.arange(1,field.shape[1]-1):\n",
    "            nx = field[i,j,0]\n",
    "            ny = field[i,j,1]\n",
    "            orig_theta = np.arctan2(ny,nx)\n",
    "            theta = 3*(np.cos((np.arctan2(field[i+1,j,1],field[i+1,j,0])-orig_theta)+\n",
    "                              (np.arctan2(field[i+1,j+1,1],field[i+1,j,0])-orig_theta)+\n",
    "                              (np.arctan2(field[i+1,j-1,1],field[i+1,j,0])-orig_theta)+\n",
    "                              (np.arctan2(field[i,j+1,1],field[i+1,j,0])-orig_theta)+\n",
    "                              (np.arctan2(field[i,j-1,1],field[i+1,j,0])-orig_theta)+\n",
    "                              (np.arctan2(field[i-1,j+1,1],field[i+1,j,0])-orig_theta)+\n",
    "                              (np.arctan2(field[i-1,j,1],field[i+1,j,0])-orig_theta)+\n",
    "                              (np.arctan2(field[i-1,j-1,1],field[i+1,j,0])-orig_theta))**2)-1\n",
    "\n",
    "            S[i,j] = 0.5*theta/8\n",
    "\n",
    "    return S\n",
    "\n",
    "order_parameter_original = calculate_order_parameter(vector_grid[:,:,2:3])\n",
    "\n",
    "# Plot the original and interpolated defect fields with the order parameter\n",
    "fig,ax = plt.subplots(1,1,figsize=(8,8))\n",
    "quiver = ax.quiver(vector_grid[:,0], #x\n",
    "                   vector_grid[:,1], #y\n",
    "                   vector_grid[:,2], #u\n",
    "                   vector_grid[:,3], #v\n",
    "                   pivot='mid',\n",
    "                   headlength=0,\n",
    "                   headwidth=0,\n",
    "                   headaxislength=0,\n",
    "                   color=\"tab:blue\",\n",
    "                   scale_units='xy',\n",
    "                   scale=0.5\n",
    ")\n",
    "print(order_parameter_original.shape)\n",
    "pcm = ax.imshow(order_parameter_original,cmap=\"spring\",interpolation=\"bilinear\",alpha=0.5,origin=\"lower\",extent=(vector_grid[:,0][0],vector_grid[:,0][-1],vector_grid[:,1][0],vector_grid[:,1][-1]))\n",
    "fig.colorbar(pcm, ax=ax)\n",
    "ax.axis(\"scaled\")\n",
    "ax.set_box_aspect(1)\n",
    "ax.set_adjustable(\"datalim\")\n",
    "plt.show()"
   ]
  },
  {
   "cell_type": "code",
   "execution_count": null,
   "metadata": {},
   "outputs": [],
   "source": [
    "from matplotlib.animation import FuncAnimation\n",
    "\n",
    "# Assuming you have a list of vector fields called 'vector_fields'\n",
    "vector_fields = []\n",
    "for iframe in tqdm.tqdm(range(nframes)):\n",
    "    vector_field_frame = get_particle_vecs_frame(N,iframe,pos_data,disp=False)\n",
    "    vector_grid_frame = interp_particle_vecs(vector_field_frame,100,\"cubic\",disp=False)\n",
    "    vector_fields.append(vector_grid_frame)\n",
    "    \n",
    "fig, ax = plt.subplots(1, 1)\n",
    "\n",
    "def update(frame):\n",
    "    ax.clear()\n",
    "    vector_grid = vector_fields[frame]\n",
    "    quiver = ax.quiver(vector_grid[:, 0], vector_grid[:, 1], vector_grid[:, 2], vector_grid[:, 3],\n",
    "                       pivot='mid',\n",
    "                       headlength=0,\n",
    "                       headwidth=0,\n",
    "                       headaxislength=0,\n",
    "                       color=\"tab:blue\",\n",
    "                       scale_units='xy',\n",
    "                       scale=0.25\n",
    "                       )\n",
    "    ax.set_box_aspect(1)\n",
    "    ax.set_adjustable(\"datalim\")\n",
    "    ax.set_title(f'Timestep {frame}')\n",
    "\n",
    "def update_with_energy(frame):\n",
    "    ax.clear()\n",
    "    vector_grid = vector_fields[frame]\n",
    "    quiver = ax.quiver(vector_grid[:, 0], vector_grid[:, 1], vector_grid[:, 2], vector_grid[:, 3],\n",
    "                       pivot='mid',\n",
    "                       headlength=0,\n",
    "                       headwidth=0,\n",
    "                       headaxislength=0,\n",
    "                       color=\"tab:blue\",\n",
    "                       scale_units='xy',\n",
    "                       scale=0.25\n",
    "                       )\n",
    "    \n",
    "    pcm = ax.imshow(get_energy_simple(vector_grid,num_interpolation_points,disp=False),\n",
    "              cmap=\"spring\",\n",
    "              interpolation=\"bilinear\",\n",
    "              alpha=0.5,origin=\"lower\",\n",
    "              extent=(vector_grid[:,0][0],vector_grid[:,0][-1],vector_grid[:,1][0],vector_grid[:,1][-1])\n",
    "              )\n",
    "    ax.axis(\"scaled\")\n",
    "    #fig.colorbar(pcm, ax=ax)\n",
    "    ax.set_box_aspect(1)\n",
    "    ax.set_adjustable(\"datalim\")\n",
    "    ax.set_title(f'Timestep {frame}')\n",
    "\n",
    "# Create the animation\n",
    "animation = FuncAnimation(fig, update_with_energy, frames=nframes, interval=200, repeat=False)\n",
    "#saving the animation\n",
    "animation.save('vector_field_animation.mp4', writer='ffmpeg', fps=10)\n",
    "#plt.show()\n"
   ]
  },
  {
   "cell_type": "code",
   "execution_count": null,
   "metadata": {},
   "outputs": [],
   "source": [
    "# generate 2d director field with 2 defects\n",
    "# look at winding number of vector around each point?"
   ]
  },
  {
   "cell_type": "code",
   "execution_count": null,
   "metadata": {},
   "outputs": [],
   "source": [
    "\n",
    "# Assuming 'structured_vector_field' is your structured vector field\n",
    "x, y, u, v = vector_grid[:, 0], vector_grid[:, 1], vector_grid[:, 2], vector_grid[:, 3]\n",
    "\n",
    "# Calculate the gradient of the director field\n",
    "du_dx, du_dy = np.gradient(u.reshape((len(np.unique(y)), len(np.unique(x)))), axis=(1, 0))\n",
    "dv_dx, dv_dy = np.gradient(v.reshape((len(np.unique(y)), len(np.unique(x)))), axis=(1, 0))\n",
    "\n",
    "# Calculate the curl of the director field\n",
    "curl = dv_dx - du_dy\n",
    "\n",
    "# Apply a Gaussian filter to smooth the curl field\n",
    "sigma = 1.0\n",
    "smoothed_curl = gaussian_filter(curl, sigma=sigma)\n",
    "\n",
    "# Threshold to identify defect locations\n",
    "threshold = 0.1  # Adjust this value based on your data\n",
    "defect_locations = np.where(np.abs(smoothed_curl) > threshold)\n",
    "\n",
    "# Plotting\n",
    "fig,ax = plt.subplots(1,1,figsize=(10,10))\n",
    "quiver = ax.quiver(vector_grid[:,0], #x\n",
    "                   vector_grid[:,1], #y\n",
    "                   vector_grid[:,2], #u\n",
    "                   vector_grid[:,3], #v\n",
    "                   pivot='mid',\n",
    "                   headlength=0,\n",
    "                   headwidth=0,\n",
    "                   headaxislength=0,\n",
    "                   color=\"tab:blue\",\n",
    "                   scale_units='xy',\n",
    "                   scale=0.5\n",
    ")\n",
    "ax.set_box_aspect(1)\n",
    "ax.set_adjustable(\"datalim\")\n",
    "print(defect_locations[1].shape)\n",
    "print(defect_locations[0].shape)\n",
    "plt.scatter(x[defect_locations[0]], y[defect_locations[1]], c='red', marker='x', label='Defects')\n",
    "plt.show()"
   ]
  },
  {
   "cell_type": "markdown",
   "metadata": {},
   "source": []
  },
  {
   "cell_type": "code",
   "execution_count": null,
   "metadata": {},
   "outputs": [],
   "source": []
  }
 ],
 "metadata": {
  "kernelspec": {
   "display_name": "Python 3 (ipykernel)",
   "language": "python",
   "name": "python3"
  },
  "language_info": {
   "codemirror_mode": {
    "name": "ipython",
    "version": 3
   },
   "file_extension": ".py",
   "mimetype": "text/x-python",
   "name": "python",
   "nbconvert_exporter": "python",
   "pygments_lexer": "ipython3",
   "version": "3.11.5"
  }
 },
 "nbformat": 4,
 "nbformat_minor": 4
}
